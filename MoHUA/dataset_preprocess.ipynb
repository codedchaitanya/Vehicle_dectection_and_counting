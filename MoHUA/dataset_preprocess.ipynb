{
 "cells": [
  {
   "cell_type": "code",
   "execution_count": 2,
   "id": "fe926d24-9098-4467-8f0d-a79b107cfc25",
   "metadata": {},
   "outputs": [],
   "source": [
    "import numpy as np\n",
    "from matplotlib import pyplot as plt\n",
    "import yaml\n",
    "import os"
   ]
  },
  {
   "cell_type": "code",
   "execution_count": 3,
   "id": "a0723c39-0147-4417-91ba-fa02a8bcc82c",
   "metadata": {},
   "outputs": [],
   "source": [
    "dataset_path = \"./dataset/yolov5_formetted_dataset/\"\n",
    "train_label_path = \"./dataset/yolov5_formetted_dataset/labels/train/\"\n",
    "val_label_path = \"./dataset/yolov5_formetted_dataset/labels/val/\"\n",
    "yaml_path = \"./dataset/traffic_update.yaml\""
   ]
  },
  {
   "cell_type": "code",
   "execution_count": 4,
   "id": "869dc837-ffb6-4a48-969a-d64ff671b119",
   "metadata": {
    "scrolled": true
   },
   "outputs": [
    {
     "name": "stdout",
     "output_type": "stream",
     "text": [
      "['ambulance', 'auto rickshaw', 'bicycle', ' bus', 'car', 'garbagevan', 'human hauler', 'minibus', 'minivan', 'motorbike', 'Pickup', 'army vehicle', 'policecar', 'rickshaw', 'scooter', 'suv', 'taxi', 'three wheelers (CNG)', 'truck', 'van', 'wheelbarrow']\n"
     ]
    }
   ],
   "source": [
    "# Parse YAML\n",
    "with open(yaml_path) as f:\n",
    "    yaml_data = yaml.safe_load(f)\n",
    "classes = yaml_data['names']\n",
    "print(classes)"
   ]
  },
  {
   "cell_type": "code",
   "execution_count": 60,
   "id": "923dbdde-04c1-482b-a0f5-e74b321987c5",
   "metadata": {},
   "outputs": [
    {
     "name": "stdout",
     "output_type": "stream",
     "text": [
      "[('0', 'ambulance'), ('1', 'auto rickshaw'), ('2', 'bicycle'), ('3', ' bus'), ('4', 'car'), ('5', 'garbagevan'), ('6', 'human hauler'), ('7', 'minibus'), ('8', 'minivan'), ('9', 'motorbike'), ('10', 'Pickup'), ('11', 'army vehicle'), ('12', 'policecar'), ('13', 'rickshaw'), ('14', 'scooter'), ('15', 'suv'), ('16', 'taxi'), ('17', 'three wheelers (CNG)'), ('18', 'truck'), ('19', 'van'), ('20', 'wheelbarrow')]\n"
     ]
    },
    {
     "data": {
      "text/plain": [
       "<BarContainer object of 21 artists>"
      ]
     },
     "execution_count": 60,
     "metadata": {},
     "output_type": "execute_result"
    },
    {
     "data": {
      "image/png": "[encoded data removed]",
      "text/plain": [
       "<Figure size 640x480 with 1 Axes>"
      ]
     },
     "metadata": {},
     "output_type": "display_data"
    }
   ],
   "source": [
    "# %%script false --no-raise-error\n",
    "# Count and plot classes in train\n",
    "class_freq = {str(classes.index(x)): 0 for x in classes}\n",
    "train_labels = os.listdir(train_label_path)\n",
    "for label in train_labels:\n",
    "    filepath = os.path.join(train_label_path, label)\n",
    "    with open(filepath, 'r') as f:\n",
    "        data = f.read()\n",
    "        data = data.strip()\n",
    "        data = data.split(\"\\n\")\n",
    "        class_labels = [x.split(\" \")[0] for x in data]\n",
    "        for label in class_labels:\n",
    "            class_freq[label] += 1\n",
    "print(list(zip(class_freq, classes)))\n",
    "plt.bar(class_freq.keys(),class_freq.values())"
   ]
  },
  {
   "cell_type": "code",
   "execution_count": 63,
   "id": "1fe3e07a-2bad-4d8f-8462-8270d90aac62",
   "metadata": {},
   "outputs": [
    {
     "name": "stdout",
     "output_type": "stream",
     "text": [
      "['17', '0.500000', '0.545703', '0.400000', '0.224219']\n",
      "['8', '0.240278', '0.462109', '0.180556', '0.108594']\n",
      "['6', '0.086806', '0.476172', '0.170833', '0.174219']\n"
     ]
    }
   ],
   "source": [
    "# Car - 0\n",
    "# Auto - 1\n",
    "# Pedestrian - 2\n",
    "# \n",
    "def merge_classes(label_file):\n",
    "    with open(label_file) as f:\n",
    "        data = f.read()\n",
    "        annotations = data.strip().split('\\n')\n",
    "        new_data = \"\"\n",
    "        for obj in annotations:\n",
    "            obj = obj.split(\" \")\n",
    "            obj_cls = int(obj[0])\n",
    "            if obj_cls == 0:\n",
    "                continue\n",
    "            # if obj_cls in [1,]\n",
    "            print(obj)\n",
    "\n",
    "test_file = os.path.join(train_label_path,np.random.choice(os.listdir(train_label_path)))\n",
    "merge_classes(test_file)"
   ]
  },
  {
   "cell_type": "code",
   "execution_count": null,
   "id": "a41b4394-63df-454e-9be0-d212fe0d91d3",
   "metadata": {},
   "outputs": [],
   "source": []
  }
 ],
 "metadata": {
  "kernelspec": {
   "display_name": "Python 3 (ipykernel)",
   "language": "python",
   "name": "python3"
  },
  "language_info": {
   "codemirror_mode": {
    "name": "ipython",
    "version": 3
   },
   "file_extension": ".py",
   "mimetype": "text/x-python",
   "name": "python",
   "nbconvert_exporter": "python",
   "pygments_lexer": "ipython3",
   "version": "3.10.12"
  }
 },
 "nbformat": 4,
 "nbformat_minor": 5
}
