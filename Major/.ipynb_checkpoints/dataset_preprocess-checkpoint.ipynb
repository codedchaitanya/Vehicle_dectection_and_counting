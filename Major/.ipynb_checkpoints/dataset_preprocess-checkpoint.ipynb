{
 "cells": [
  {
   "cell_type": "code",
   "execution_count": 3,
   "id": "fe926d24-9098-4467-8f0d-a79b107cfc25",
   "metadata": {},
   "outputs": [
    {
     "ename": "ModuleNotFoundError",
     "evalue": "No module named 'numpy'",
     "output_type": "error",
     "traceback": [
      "\u001b[1;31m---------------------------------------------------------------------------\u001b[0m",
      "\u001b[1;31mModuleNotFoundError\u001b[0m                       Traceback (most recent call last)",
      "Cell \u001b[1;32mIn[3], line 1\u001b[0m\n\u001b[1;32m----> 1\u001b[0m \u001b[38;5;28;01mimport\u001b[39;00m\u001b[38;5;250m \u001b[39m\u001b[38;5;21;01mnumpy\u001b[39;00m\u001b[38;5;250m \u001b[39m\u001b[38;5;28;01mas\u001b[39;00m\u001b[38;5;250m \u001b[39m\u001b[38;5;21;01mnp\u001b[39;00m\n\u001b[0;32m      2\u001b[0m \u001b[38;5;28;01mfrom\u001b[39;00m\u001b[38;5;250m \u001b[39m\u001b[38;5;21;01mmatplotlib\u001b[39;00m\u001b[38;5;250m \u001b[39m\u001b[38;5;28;01mimport\u001b[39;00m pyplot \u001b[38;5;28;01mas\u001b[39;00m plt\n\u001b[0;32m      3\u001b[0m \u001b[38;5;28;01mimport\u001b[39;00m\u001b[38;5;250m \u001b[39m\u001b[38;5;21;01myaml\u001b[39;00m\n",
      "\u001b[1;31mModuleNotFoundError\u001b[0m: No module named 'numpy'"
     ]
    }
   ],
   "source": [
    "import numpy as np\n",
    "from matplotlib import pyplot as plt\n",
    "import yaml\n",
    "import os"
   ]
  },
  {
   "cell_type": "code",
   "execution_count": 4,
   "id": "a0723c39-0147-4417-91ba-fa02a8bcc82c",
   "metadata": {},
   "outputs": [],
   "source": [
    "dataset_path = \"./dataset/yolov5_formetted_dataset/\"\n",
    "train_label_path = \"./dataset/yolov5_formetted_dataset/labels/train/\"\n",
    "val_label_path = \"./dataset/yolov5_formetted_dataset/labels/val/\"\n",
    "yaml_path = \"./dataset/traffic_update.yaml\""
   ]
  },
  {
   "cell_type": "code",
   "execution_count": 5,
   "id": "869dc837-ffb6-4a48-969a-d64ff671b119",
   "metadata": {
    "scrolled": true
   },
   "outputs": [
    {
     "ename": "FileNotFoundError",
     "evalue": "[Errno 2] No such file or directory: './dataset/traffic_update.yaml'",
     "output_type": "error",
     "traceback": [
      "\u001b[1;31m---------------------------------------------------------------------------\u001b[0m",
      "\u001b[1;31mFileNotFoundError\u001b[0m                         Traceback (most recent call last)",
      "Cell \u001b[1;32mIn[5], line 2\u001b[0m\n\u001b[0;32m      1\u001b[0m \u001b[38;5;66;03m# Parse YAML\u001b[39;00m\n\u001b[1;32m----> 2\u001b[0m \u001b[38;5;28;01mwith\u001b[39;00m \u001b[38;5;28;43mopen\u001b[39;49m\u001b[43m(\u001b[49m\u001b[43myaml_path\u001b[49m\u001b[43m)\u001b[49m \u001b[38;5;28;01mas\u001b[39;00m f:\n\u001b[0;32m      3\u001b[0m     yaml_data \u001b[38;5;241m=\u001b[39m yaml\u001b[38;5;241m.\u001b[39msafe_load(f)\n\u001b[0;32m      4\u001b[0m classes \u001b[38;5;241m=\u001b[39m yaml_data[\u001b[38;5;124m'\u001b[39m\u001b[38;5;124mnames\u001b[39m\u001b[38;5;124m'\u001b[39m]\n",
      "File \u001b[1;32m~\\AppData\\Roaming\\Python\\Python311\\site-packages\\IPython\\core\\interactiveshell.py:324\u001b[0m, in \u001b[0;36m_modified_open\u001b[1;34m(file, *args, **kwargs)\u001b[0m\n\u001b[0;32m    317\u001b[0m \u001b[38;5;28;01mif\u001b[39;00m file \u001b[38;5;129;01min\u001b[39;00m {\u001b[38;5;241m0\u001b[39m, \u001b[38;5;241m1\u001b[39m, \u001b[38;5;241m2\u001b[39m}:\n\u001b[0;32m    318\u001b[0m     \u001b[38;5;28;01mraise\u001b[39;00m \u001b[38;5;167;01mValueError\u001b[39;00m(\n\u001b[0;32m    319\u001b[0m         \u001b[38;5;124mf\u001b[39m\u001b[38;5;124m\"\u001b[39m\u001b[38;5;124mIPython won\u001b[39m\u001b[38;5;124m'\u001b[39m\u001b[38;5;124mt let you open fd=\u001b[39m\u001b[38;5;132;01m{\u001b[39;00mfile\u001b[38;5;132;01m}\u001b[39;00m\u001b[38;5;124m by default \u001b[39m\u001b[38;5;124m\"\u001b[39m\n\u001b[0;32m    320\u001b[0m         \u001b[38;5;124m\"\u001b[39m\u001b[38;5;124mas it is likely to crash IPython. If you know what you are doing, \u001b[39m\u001b[38;5;124m\"\u001b[39m\n\u001b[0;32m    321\u001b[0m         \u001b[38;5;124m\"\u001b[39m\u001b[38;5;124myou can use builtins\u001b[39m\u001b[38;5;124m'\u001b[39m\u001b[38;5;124m open.\u001b[39m\u001b[38;5;124m\"\u001b[39m\n\u001b[0;32m    322\u001b[0m     )\n\u001b[1;32m--> 324\u001b[0m \u001b[38;5;28;01mreturn\u001b[39;00m \u001b[43mio_open\u001b[49m\u001b[43m(\u001b[49m\u001b[43mfile\u001b[49m\u001b[43m,\u001b[49m\u001b[43m \u001b[49m\u001b[38;5;241;43m*\u001b[39;49m\u001b[43margs\u001b[49m\u001b[43m,\u001b[49m\u001b[43m \u001b[49m\u001b[38;5;241;43m*\u001b[39;49m\u001b[38;5;241;43m*\u001b[39;49m\u001b[43mkwargs\u001b[49m\u001b[43m)\u001b[49m\n",
      "\u001b[1;31mFileNotFoundError\u001b[0m: [Errno 2] No such file or directory: './dataset/traffic_update.yaml'"
     ]
    }
   ],
   "source": [
    "# Parse YAML\n",
    "with open(yaml_path) as f:\n",
    "    yaml_data = yaml.safe_load(f)\n",
    "classes = yaml_data['names']\n",
    "print(classes)"
   ]
  },
  {
   "cell_type": "code",
   "execution_count": 57,
   "id": "60456e7d-ae3f-45f6-b2c5-7fb74bfe0c81",
   "metadata": {},
   "outputs": [],
   "source": [
    "def merge_classes(label_file):\n",
    "    with open(label_file) as f:\n",
    "        data = f.read()\n",
    "        annotations = data.strip().split('\\n')\n",
    "        new_data = \"\"\n",
    "        for obj in annotations:\n",
    "            obj = obj.split(\" \")\n",
    "            obj_cls = int(obj[0])\n",
    "            if obj_cls == 0:\n",
    "                continue\n",
    "            if obj_cls in [1,]\n",
    "            print(obj)\n"
   ]
  },
  {
   "cell_type": "code",
   "execution_count": 58,
   "id": "923dbdde-04c1-482b-a0f5-e74b321987c5",
   "metadata": {},
   "outputs": [],
   "source": [
    "# %%script false --no-raise-error\n",
    "# Count and plot classes in train\n",
    "class_freq = {str(classes.index(x)): 0 for x in classes}\n",
    "train_labels = os.listdir(train_label_path)\n",
    "for label in train_labels:\n",
    "    filepath = os.path.join(train_label_path, label)\n",
    "    with open(filepath, 'r') as f:\n",
    "        data = f.read()\n",
    "        data = data.strip()\n",
    "        data = data.split(\"\\n\")\n",
    "        class_labels = [x.split(\" \")[0] for x in data]\n",
    "        for label in class_labels:\n",
    "            class_freq[label] += 1\n",
    "print(list(zip(class_freq, classes)))\n",
    "plt.bar(class_freq.keys(),class_freq.values())"
   ]
  },
  {
   "cell_type": "code",
   "execution_count": 59,
   "id": "1fe3e07a-2bad-4d8f-8462-8270d90aac62",
   "metadata": {},
   "outputs": [
    {
     "name": "stdout",
     "output_type": "stream",
     "text": [
      "['3', '0.960156', '0.490278', '0.079688', '0.241667']\n",
      "['4', '0.800000', '0.552778', '0.140625', '0.125000']\n",
      "['13', '0.886719', '0.498611', '0.028125', '0.075000']\n",
      "['4', '0.907813', '0.496528', '0.025000', '0.043056']\n",
      "['13', '0.455469', '0.613889', '0.170313', '0.302778']\n",
      "['13', '0.693750', '0.525000', '0.068750', '0.102778']\n",
      "['13', '0.550000', '0.467361', '0.020313', '0.037500']\n",
      "['13', '0.680469', '0.477083', '0.026563', '0.043056']\n",
      "['9', '0.624219', '0.543750', '0.067187', '0.070833']\n",
      "['4', '0.586719', '0.506250', '0.089063', '0.070833']\n",
      "['13', '0.225781', '0.485417', '0.031250', '0.081944']\n",
      "['13', '0.273047', '0.487500', '0.033594', '0.080556']\n",
      "['13', '0.130859', '0.475000', '0.028906', '0.066667']\n",
      "['13', '0.014844', '0.488194', '0.028125', '0.076389']\n",
      "['4', '0.182031', '0.483333', '0.051563', '0.058333']\n",
      "['3', '0.210547', '0.425694', '0.036719', '0.043056']\n",
      "['3', '0.252344', '0.439583', '0.045313', '0.084722']\n",
      "['4', '0.174219', '0.436806', '0.012500', '0.018056']\n",
      "['17', '0.191016', '0.444444', '0.019531', '0.033333']\n",
      "['17', '0.307031', '0.468750', '0.028125', '0.056944']\n",
      "['17', '0.521094', '0.491667', '0.039062', '0.075000']\n",
      "['3', '0.739453', '0.461111', '0.135156', '0.069444']\n",
      "['13', '0.746875', '0.491667', '0.025000', '0.072222']\n",
      "['13', '0.859375', '0.497222', '0.034375', '0.047222']\n"
     ]
    }
   ],
   "source": [
    "test_file = os.path.join(train_label_path,np.random.choice(os.listdir(train_label_path)))\n",
    "merge_classes(test_file)"
   ]
  },
  {
   "cell_type": "code",
   "execution_count": null,
   "id": "a41b4394-63df-454e-9be0-d212fe0d91d3",
   "metadata": {},
   "outputs": [],
   "source": []
  }
 ],
 "metadata": {
  "kernelspec": {
   "display_name": "Python 3",
   "language": "python",
   "name": "python3"
  },
  "language_info": {
   "codemirror_mode": {
    "name": "ipython",
    "version": 3
   },
   "file_extension": ".py",
   "mimetype": "text/x-python",
   "name": "python",
   "nbconvert_exporter": "python",
   "pygments_lexer": "ipython3",
   "version": "3.11.1"
  }
 },
 "nbformat": 4,
 "nbformat_minor": 5
}
